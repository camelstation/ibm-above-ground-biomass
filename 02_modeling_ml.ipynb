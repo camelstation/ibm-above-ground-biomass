{
 "cells": [
  {
   "cell_type": "markdown",
   "id": "31cfa70a",
   "metadata": {},
   "source": [
    "This notebook describes:\n",
    "1. How to generate training/validation dataset\n",
    "2. How to build a simple inference network\n",
    "3. Inference"
   ]
  },
  {
   "cell_type": "code",
   "execution_count": 1,
   "id": "eff8874e",
   "metadata": {},
   "outputs": [],
   "source": [
    "%load_ext autoreload\n",
    "%autoreload 2"
   ]
  },
  {
   "cell_type": "code",
   "execution_count": 2,
   "id": "2b190e77",
   "metadata": {},
   "outputs": [],
   "source": [
    "import os\n",
    "import numpy as np\n",
    "np.random.get_state(42)\n",
    "\n",
    "from tqdm import tqdm\n",
    "import pandas as pd\n",
    "import joblib\n",
    "import xarray as xr\n",
    "from sklearn.model_selection import train_test_split, GridSearchCV, RandomizedSearchCV\n",
    "import matplotlib.pyplot as plt\n",
    "plt.style.use('ggplot')\n",
    "from sklearn.metrics import mean_squared_error, mean_absolute_error\n",
    "from sklearn.linear_model import LinearRegression \n",
    "from scipy import stats\n",
    "import xgboost as xgb\n",
    "from xgboost import plot_importance\n",
    "import seaborn as sns\n",
    "\n",
    "import cuml\n",
    "import xgboost"
   ]
  },
  {
   "cell_type": "markdown",
   "id": "99d1c101",
   "metadata": {},
   "source": [
    "# Generate Training/Validation sets"
   ]
  },
  {
   "cell_type": "code",
   "execution_count": null,
   "id": "a05d67d2",
   "metadata": {},
   "outputs": [
    {
     "name": "stderr",
     "output_type": "stream",
     "text": [
      "  6%|▌         | 5789/99913 [15:22<5:57:20,  4.39it/s] "
     ]
    }
   ],
   "source": [
    "# Process harmonized samples to generate pixel-level data points\n",
    "x_bands = ['band_01', 'band_02', 'band_03', 'band_04', 'band_05', 'band_06', 'band_07', 'band_08', 'band_8A', 'band_09', 'band_11', 'band_12', 'band_VV', 'band_VH', 'sif_771']\n",
    "datasets = {'rh': ['/data/global_harmonized', './data/validation/harmonized'],\n",
    "            'agb': ['/data/global_harmonized', './data/validation_agb/harmonized']\n",
    "           }\n",
    "\n",
    "names = ['training', 'validation']\n",
    "\n",
    "for target in datasets.keys():\n",
    "    dataset_dirs = datasets[target]\n",
    "    for n, dataset in enumerate(dataset_dirs):\n",
    "        all_data = []\n",
    "        harmonized_files = [os.path.join(dataset, file) for file in os.listdir(dataset) if file.endswith('.nc')]\n",
    "\n",
    "        for i in tqdm(range(len(harmonized_files))):\n",
    "            try:\n",
    "                curr_data = []\n",
    "                ds = xr.open_dataset(harmonized_files[i])\n",
    "                mask = ds[target].notnull()\n",
    "                for varname in x_bands:\n",
    "                    curr_data.append(ds[varname].values[mask])\n",
    "\n",
    "                curr_data.append(ds[target].values[mask])\n",
    "\n",
    "                try:\n",
    "                    all_data = np.concatenate((all_data, curr_data), axis=1)\n",
    "                except:\n",
    "                    all_data = curr_data\n",
    "            except:\n",
    "                print(f'Fails: {harmonized_files[i]}')\n",
    "\n",
    "        all_data = np.array(all_data).swapaxes(0,1)\n",
    "        out_path = f'./data/ml_data/{names[n]}_{target}_global.npy'\n",
    "        np.save(out_path, all_data)"
   ]
  },
  {
   "cell_type": "markdown",
   "id": "3ea215d7",
   "metadata": {},
   "source": [
    "# Fitting and Inference"
   ]
  },
  {
   "cell_type": "code",
   "execution_count": 3,
   "id": "1c7a94fc",
   "metadata": {},
   "outputs": [],
   "source": [
    "def get_pixel_data(train_path, val_path, test_size=0.1, val_ratio=0.9, percentile=95, target='agb'):\n",
    "    # Split training-testing set (90-10 split); \n",
    "    train_data = np.load(train_path)\n",
    "    \n",
    "    # Randomly sample validation samples since we have significantly more val than train\n",
    "    val_data = np.load(val_path)\n",
    "    val_idx = np.random.choice(np.arange(0, len(val_data)), int(len(train_data)*0.1)) \n",
    "    val_data = val_data[val_idx] \n",
    "    \n",
    "    # Filtering to remove outlier (95th percentile and negative or zero values for AGB & >3 meter for RH)\n",
    "    if target == 'rh':\n",
    "        # Train on RH > 3 meters\n",
    "        train_data = train_data[train_data[:,-1] > 3]\n",
    "        val_data = val_data[val_data[:,-1] > 3]\n",
    "        y_train,y_test,y_val = np.clip(y_train,0,200),np.clip(y_test,0,200),np.clip(y_val,0,200)\n",
    "    else:\n",
    "        # Remove AGB <= 0 & outlier: 95th percentile\n",
    "        train_data = train_data[train_data[:,-1] > 0]\n",
    "        train_outlier = np.percentile(train_data[:,-1], percentile)\n",
    "        train_data = train_data[train_data[:,-1] < train_outlier]\n",
    "        \n",
    "        val_data = val_data[val_data[:,-1] > 0]\n",
    "        val_outlier = np.percentile(val_data[:,-1], percentile)\n",
    "        val_data = val_data[val_data[:,-1] < val_outlier]\n",
    "    \n",
    "    train_data, test_data = train_test_split(train_data, test_size=test_size)\n",
    "    X_train, y_train = train_data[:,:-1], train_data[:,-1]\n",
    "    X_test, y_test = test_data[:,:-1], test_data[:,-1]\n",
    "    X_val, y_val = val_data[:,:-1], val_data[:,-1]\n",
    "    \n",
    "    # Ensure no NaN values in the X features since our ML models can't handle such value (assign 0, otherwise)\n",
    "    return np.nan_to_num(X_train), y_train, np.nan_to_num(X_test), y_test, np.nan_to_num(X_val), y_val"
   ]
  },
  {
   "cell_type": "code",
   "execution_count": 4,
   "id": "1711ffc7",
   "metadata": {},
   "outputs": [],
   "source": [
    "def evaluate_model(model, x, y, target):\n",
    "    \"\"\"Evaluate models in terms of rmse, mae, r2\"\"\"\n",
    "    allometric = lambda x: 0.8245 * np.power(np.clip(x,0,200), 1.573) # DEPRECATED\n",
    "    if target == 'rh':\n",
    "        y = np.clip(y,0,200)\n",
    "    \n",
    "    preds = model.predict(x)\n",
    "    r2 = model.score(x, y)\n",
    "    \n",
    "    if target == 'rh':\n",
    "        y = allometric(y)\n",
    "        preds = allometric(preds)\n",
    "        \n",
    "    rmse = np.sqrt(mean_squared_error(y, preds))\n",
    "    mae = mean_absolute_error(y, preds)\n",
    "    \n",
    "    return rmse, mae, r2"
   ]
  },
  {
   "cell_type": "code",
   "execution_count": 13,
   "id": "791c0758",
   "metadata": {},
   "outputs": [],
   "source": [
    "def evaluate_all(model, train_path, val_path, inputs, target, runs=5, save=None):\n",
    "    \"\"\"Encompassing function that runs models across runs (default=5)\"\"\"\n",
    "\n",
    "    assert inputs in ['radar', 'optic', 'all'] # radar: S1/S2, optic: S2-only, all: SIF/S1/S2\n",
    "    assert save in [None, 'xgb', 'rf']\n",
    "    \n",
    "    rmse_test, rmse_val = [], []\n",
    "    mae_test, mae_val = [], []\n",
    "\n",
    "    for i in range(runs):\n",
    "        X_train, y_train, X_test, y_test, X_val, y_val = get_pixel_data(train_path, val_path, target=target)\n",
    "        if inputs == 'radar':\n",
    "            X_train, X_test, X_val = X_train[:,:-1], X_test[:,:-1], X_val[:,:-1]\n",
    "        elif inputs == 'optic':\n",
    "            X_train, X_test, X_val = X_train[:,:-3], X_test[:,:-3], X_val[:,:-3]\n",
    "        \n",
    "        model.fit(X_train.astype(np.float32), y_train.astype(np.float32))\n",
    "\n",
    "        # Testing (on set-aside GEDI)\n",
    "        rmse, mae, r2_test = evaluate_model(model, X_test, y_test, target=target)\n",
    "        rmse_test.append(rmse); mae_test.append(mae)\n",
    "\n",
    "        # Testing (on ALS)\n",
    "        rmse, mae, r2_val = evaluate_model(model, X_val, y_val, target=target)\n",
    "        rmse_val.append(rmse); mae_val.append(mae)\n",
    "        \n",
    "        if save != None:\n",
    "            if save == 'xgb':\n",
    "                model.save_model(f'./zoo/global/xgboost_{target}_{i+1}.json')\n",
    "            else:\n",
    "                joblib.dump(model, f'./zoo/global/rf_{target}_{i+1}.joblib')\n",
    "\n",
    "    print(u'RMSE for set aside GEDI: {:.2f} \\u00B1 {:.2f} \\t MAE: {:.2f} \\u00B1 {:.2f} \\t R2: {:.2f}'.format(np.array(rmse_test).mean(), np.array(rmse_test).std(), np.array(mae_test).mean(), np.array(mae_test).std(), r2_test))\n",
    "    print(u'RMSE for ALS sites: {:.2f} \\u00B1 {:.2f} \\t MAE: {:.2f} \\u00B1 {:.2f} \\t R2: {:.2f}'.format(np.array(rmse_val).mean(), np.array(rmse_val).std(), np.array(mae_val).mean(), np.array(mae_val).std(), r2_val))\n",
    "        \n",
    "    return model"
   ]
  },
  {
   "cell_type": "code",
   "execution_count": 6,
   "id": "d85dae45",
   "metadata": {},
   "outputs": [],
   "source": [
    "def hyp_opt(model, parameters, x, y):\n",
    "    grid_search = RandomizedSearchCV(\n",
    "        estimator = model,\n",
    "        param_distributions = parameters,\n",
    "        scoring = 'neg_mean_squared_error',\n",
    "        n_iter = 50,\n",
    "        cv = 5,\n",
    "        verbose = 2,\n",
    "        random_state = 42\n",
    "    )\n",
    "\n",
    "    grid_search.fit(x, y)\n",
    "    return grid_search.best_estimator_"
   ]
  },
  {
   "cell_type": "markdown",
   "id": "08e98424",
   "metadata": {},
   "source": [
    "# Train and Validate"
   ]
  },
  {
   "cell_type": "markdown",
   "id": "11b75500",
   "metadata": {},
   "source": [
    "## Optimization"
   ]
  },
  {
   "cell_type": "code",
   "execution_count": 7,
   "id": "683c39a3",
   "metadata": {},
   "outputs": [],
   "source": [
    "target = 'agb'\n",
    "train_path = './data/ml_data/training_agb_global.npy'\n",
    "val_path = './data/ml_data/validation_agb_global.npy'"
   ]
  },
  {
   "cell_type": "code",
   "execution_count": null,
   "id": "0ad413bb",
   "metadata": {
    "scrolled": true
   },
   "outputs": [],
   "source": [
    "# Optimization: XGB\n",
    "xgb_model = xgb.XGBRegressor(objective='reg:squarederror', tree_method='gpu_hist')\n",
    "X_train, y_train, X_test, y_test, X_val, y_val = get_pixel_data(train_path, val_path, target=target)\n",
    "\n",
    "parameters = {\n",
    "    'max_depth': range(2, 11, 1),\n",
    "    'n_estimators': range(200, 2001, 200),\n",
    "    'learning_rate': [0.01, 0.02, 0.03, 0.04, 0.05, 0.06, 0.07, 0.08, 0.09, 0.1]\n",
    "}\n",
    "\n",
    "best_params = hyp_opt(xgb_model, parameters, X_train, y_train)\n",
    "print(best_params) # learning_rate=0.06, n_estimators=800, max_depth=10"
   ]
  },
  {
   "cell_type": "code",
   "execution_count": null,
   "id": "5c968577",
   "metadata": {},
   "outputs": [
    {
     "name": "stdout",
     "output_type": "stream",
     "text": [
      "Fitting 5 folds for each of 50 candidates, totalling 250 fits\n"
     ]
    },
    {
     "name": "stderr",
     "output_type": "stream",
     "text": [
      "/home/juanat/anaconda3/envs/rapids/lib/python3.9/site-packages/cuml/internals/api_decorators.py:567: UserWarning: To use pickling or GPU-based prediction first train using float32 data to fit the estimator\n",
      "  ret_val = func(*args, **kwargs)\n",
      "/home/juanat/anaconda3/envs/rapids/lib/python3.9/contextlib.py:79: UserWarning: GPU based predict only accepts np.float32 data. The model was trained on np.float64 data hence cannot use GPU-based prediction! \n",
      "Defaulting to CPU-based Prediction. \n",
      "To predict on float-64 data, set parameter predict_model = 'CPU'\n",
      "  return func(*args, **kwds)\n"
     ]
    },
    {
     "name": "stdout",
     "output_type": "stream",
     "text": [
      "[CV] END max_depth=5, min_samples_leaf=4, min_samples_split=10, n_estimators=200; total time= 1.4min\n"
     ]
    }
   ],
   "source": [
    "# Optimization: RF\n",
    "rf_model = cuml.ensemble.RandomForestRegressor()\n",
    "X_train, y_train, X_test, y_test, X_val, y_val = get_pixel_data(train_path, val_path, target=target)\n",
    "parameters = {\n",
    "    'max_depth': range(2, 11, 1),\n",
    "    'min_samples_leaf': [1, 2, 3, 4, 5],\n",
    "    'min_samples_split': [2, 4, 6, 8, 10],\n",
    "    'n_estimators': range(200, 2001, 200)\n",
    "}\n",
    "\n",
    "best_params = hyp_opt(rf_model, parameters, X_train, y_train)\n",
    "print(best_params)"
   ]
  },
  {
   "cell_type": "markdown",
   "id": "cd062c33",
   "metadata": {},
   "source": [
    "## Fitting"
   ]
  },
  {
   "cell_type": "code",
   "execution_count": 8,
   "id": "8ba2336a",
   "metadata": {},
   "outputs": [],
   "source": [
    "target = 'agb'\n",
    "\n",
    "train_path = f'./data/ml_data/training_{target}_global.npy'\n",
    "val_path = f'./data/ml_data/validation_{target}_global.npy'"
   ]
  },
  {
   "cell_type": "markdown",
   "id": "13594b63",
   "metadata": {},
   "source": [
    "### a. Linear Regression"
   ]
  },
  {
   "cell_type": "code",
   "execution_count": 9,
   "id": "11a40f9b",
   "metadata": {},
   "outputs": [
    {
     "name": "stdout",
     "output_type": "stream",
     "text": [
      "RMSE for set aside GEDI: 104.20 ± 0.07 \t MAE: 84.50 ± 0.06 \t R2: 0.12\n",
      "RMSE for ALS sites: 116.17 ± 0.09 \t MAE: 102.47 ± 0.09 \t R2: 0.03\n"
     ]
    }
   ],
   "source": [
    "# SIF/S1/S2\n",
    "lingress = LinearRegression()\n",
    "lingress = evaluate_all(lingress, train_path, val_path, inputs='all', target=target, save=None)"
   ]
  },
  {
   "cell_type": "code",
   "execution_count": 10,
   "id": "99cfef4d",
   "metadata": {},
   "outputs": [
    {
     "name": "stdout",
     "output_type": "stream",
     "text": [
      "RMSE for set aside GEDI: 105.20 ± 0.10 \t MAE: 85.44 ± 0.08 \t R2: 0.11\n",
      "RMSE for ALS sites: 122.61 ± 0.07 \t MAE: 108.06 ± 0.10 \t R2: -0.08\n"
     ]
    }
   ],
   "source": [
    "# S1/S2\n",
    "lingress = LinearRegression()\n",
    "lingress = evaluate_all(lingress, train_path, val_path, inputs='radar', target=target, save=None)"
   ]
  },
  {
   "cell_type": "code",
   "execution_count": 11,
   "id": "35a67e2f",
   "metadata": {},
   "outputs": [
    {
     "name": "stdout",
     "output_type": "stream",
     "text": [
      "RMSE for set aside GEDI: 105.47 ± 0.05 \t MAE: 85.69 ± 0.06 \t R2: 0.10\n",
      "RMSE for ALS sites: 123.90 ± 0.07 \t MAE: 109.25 ± 0.08 \t R2: -0.10\n"
     ]
    }
   ],
   "source": [
    "# S2\n",
    "lingress = LinearRegression()\n",
    "lingress = evaluate_all(lingress, train_path, val_path, inputs='optic', target=target, save=None)"
   ]
  },
  {
   "cell_type": "markdown",
   "id": "f8de331c",
   "metadata": {},
   "source": [
    "### b. XGBoost"
   ]
  },
  {
   "cell_type": "code",
   "execution_count": 15,
   "id": "cd237467",
   "metadata": {},
   "outputs": [
    {
     "name": "stdout",
     "output_type": "stream",
     "text": [
      "RMSE for set aside GEDI: 98.11 ± 0.09 \t MAE: 77.60 ± 0.08 \t R2: 0.22\n",
      "RMSE for ALS sites: 109.69 ± 0.17 \t MAE: 87.19 ± 0.16 \t R2: 0.14\n"
     ]
    }
   ],
   "source": [
    "# SIF/S1/S2\n",
    "xgb_model = xgb.XGBRegressor(objective='reg:squarederror', tree_method='gpu_hist', learning_rate=0.06, n_estimators=800, max_depth=10)\n",
    "xgb_model = evaluate_all(xgb_model, train_path, val_path, inputs='all', target=target, save='xgb')"
   ]
  },
  {
   "cell_type": "code",
   "execution_count": 16,
   "id": "ff1758d3",
   "metadata": {},
   "outputs": [
    {
     "name": "stdout",
     "output_type": "stream",
     "text": [
      "RMSE for set aside GEDI: 101.29 ± 0.03 \t MAE: 80.63 ± 0.04 \t R2: 0.18\n",
      "RMSE for ALS sites: 124.66 ± 0.08 \t MAE: 109.69 ± 0.10 \t R2: -0.12\n"
     ]
    }
   ],
   "source": [
    "# S1/S2\n",
    "xgb_model = xgb.XGBRegressor(objective='reg:squarederror', tree_method='gpu_hist', learning_rate=0.06, n_estimators=800, max_depth=10)\n",
    "xgb_model = evaluate_all(xgb_model, train_path, val_path, inputs='radar', target=target, save=None)"
   ]
  },
  {
   "cell_type": "code",
   "execution_count": 17,
   "id": "7110e862",
   "metadata": {},
   "outputs": [
    {
     "name": "stdout",
     "output_type": "stream",
     "text": [
      "RMSE for set aside GEDI: 101.88 ± 0.06 \t MAE: 81.13 ± 0.02 \t R2: 0.16\n",
      "RMSE for ALS sites: 125.06 ± 0.12 \t MAE: 110.23 ± 0.12 \t R2: -0.12\n"
     ]
    }
   ],
   "source": [
    "# S2\n",
    "xgb_model = xgb.XGBRegressor(objective='reg:squarederror', tree_method='gpu_hist', learning_rate=0.06, n_estimators=800, max_depth=10)\n",
    "xgb_model = evaluate_all(xgb_model, train_path, val_path, inputs='optic', target=target, save=None)"
   ]
  },
  {
   "cell_type": "markdown",
   "id": "dbc4ba80",
   "metadata": {},
   "source": [
    "### c. RF"
   ]
  },
  {
   "cell_type": "code",
   "execution_count": 9,
   "id": "a778fe7b",
   "metadata": {},
   "outputs": [
    {
     "name": "stdout",
     "output_type": "stream",
     "text": [
      "RMSE for set aside GEDI: 98.67 ± 0.07 \t MAE: 78.27 ± 0.06 \t R2: 0.21\n",
      "RMSE for ALS sites: 110.00 ± 0.23 \t MAE: 87.34 ± 0.24 \t R2: 0.13\n"
     ]
    }
   ],
   "source": [
    "# SIF/S1/S2\n",
    "rf_model = cuml.ensemble.RandomForestRegressor()\n",
    "rf_model = evaluate_all(rf_model, train_path, val_path, inputs='all', target=target, save='rf')"
   ]
  },
  {
   "cell_type": "code",
   "execution_count": 10,
   "id": "3bee9b3f",
   "metadata": {},
   "outputs": [
    {
     "name": "stdout",
     "output_type": "stream",
     "text": [
      "RMSE for set aside GEDI: 101.92 ± 0.08 \t MAE: 81.42 ± 0.07 \t R2: 0.16\n",
      "RMSE for ALS sites: 124.77 ± 0.10 \t MAE: 109.99 ± 0.09 \t R2: -0.12\n"
     ]
    }
   ],
   "source": [
    "# S1/S2\n",
    "rf_model = cuml.ensemble.RandomForestRegressor()\n",
    "rf_model = evaluate_all(rf_model, train_path, val_path, inputs='radar', target=target, save=None)"
   ]
  },
  {
   "cell_type": "code",
   "execution_count": 11,
   "id": "0ef135ea",
   "metadata": {},
   "outputs": [
    {
     "name": "stdout",
     "output_type": "stream",
     "text": [
      "RMSE for set aside GEDI: 102.47 ± 0.05 \t MAE: 81.82 ± 0.09 \t R2: 0.15\n",
      "RMSE for ALS sites: 125.02 ± 0.09 \t MAE: 110.18 ± 0.10 \t R2: -0.12\n"
     ]
    }
   ],
   "source": [
    "# S2\n",
    "rf_model = cuml.ensemble.RandomForestRegressor()\n",
    "rf_model = evaluate_all(rf_model, train_path, val_path, inputs='optic', target=target, save=None)"
   ]
  },
  {
   "cell_type": "markdown",
   "id": "cf9e194d",
   "metadata": {},
   "source": [
    "# Results"
   ]
  },
  {
   "cell_type": "markdown",
   "id": "58aaffc6",
   "metadata": {},
   "source": [
    "For CONUS\n",
    "\n",
    "1. RMSE:\n",
    "<table>\n",
    "    <thead>\n",
    "        <tr>\n",
    "            <th>Model</th>\n",
    "            <th>Inputs</th>\n",
    "            <th>Test</th>\n",
    "            <th>Validation</th>\n",
    "            <th>Autumn</th>\n",
    "        </tr>\n",
    "    </thead>\n",
    "    <tbody>\n",
    "        <tr>\n",
    "            <td rowspan=3>Linear regression</td>\n",
    "            <td>SIF/S1/S2</td>\n",
    "            <td>66.07 ± 0.06</td>\n",
    "            <td>81.95 ± 0.01</td>\n",
    "            <td>81.53 ± 0.00</td>\n",
    "        </tr>\n",
    "        <tr>\n",
    "            <td>S1/S2</td>\n",
    "            <td>66.46 ± 0.10</td>\n",
    "            <td>84.33 ± 0.00</td>\n",
    "            <td>83.72 ± 0.00</td>\n",
    "        </tr>\n",
    "        <tr>\n",
    "            <td>S2-only</td>\n",
    "            <td>67.10 ± 0.11</td>\n",
    "            <td>90.99 ± 0.03</td>\n",
    "            <td>87.20 ± 0.00</td>\n",
    "        </tr>\n",
    "        <tr>\n",
    "            <td rowspan=3>XGBoost</td>\n",
    "            <td>SIF/S1/S2</td>\n",
    "            <td>56.66 ± 0.06</td>\n",
    "            <td>53.37 ± 0.05</td>\n",
    "            <td>75.88 ± 0.22</td>\n",
    "        </tr>\n",
    "        <tr>\n",
    "            <td>S1/S2</td>\n",
    "            <td>57.35 ± 0.05</td>\n",
    "            <td>54.74 ± 0.03</td>\n",
    "            <td>72.10 ± 0.07</td>\n",
    "        </tr>\n",
    "        <tr>\n",
    "            <td>S2-only</td>\n",
    "            <td>57.82 ± 0.02</td>\n",
    "            <td>54.81 ± 0.26</td>\n",
    "            <td>73.13 ± 0.24</td>\n",
    "        </tr>\n",
    "        <tr>\n",
    "            <td rowspan=3>Random Forest</td>\n",
    "            <td>SIF/S1/S2</td>\n",
    "            <td>57.16 ± 0.05</td>\n",
    "            <td>52.30 ± 0.03</td>\n",
    "            <td>81.66 ± 0.08</td>\n",
    "        </tr>\n",
    "        <tr>\n",
    "            <td>S1/S2</td>\n",
    "            <td>58.05 ± 0.03</td>\n",
    "            <td>54.72 ± 0.06</td>\n",
    "            <td>75.44 ± 0.08</td>\n",
    "        </tr>\n",
    "        <tr>\n",
    "            <td>S2-only</td>\n",
    "            <td>58.12 ± 0.02</td>\n",
    "            <td>54.88 ± 0.18</td>\n",
    "            <td>76.90 ± 0.01</td>\n",
    "        </tr>\n",
    "        <tr>\n",
    "            <td rowspan=3>UNet</td>\n",
    "            <td>SIF/S1/S2</td>\n",
    "            <td><b>48.83 ± 0.19</b></td>\n",
    "            <td><b>37.93 ± 1.36</b></td>\n",
    "            <td>66.94 ± 0.51</td>\n",
    "        </tr>\n",
    "        <tr>\n",
    "            <td>S1/S2</td>\n",
    "            <td>49.30 ± 0.18</td>\n",
    "            <td>41.99 ± 3.23</td>\n",
    "            <td><b>65.88 ± 0.27</b></td>\n",
    "        </tr>\n",
    "        <tr>\n",
    "            <td>S2-only</td>\n",
    "            <td>50.35 ± 0.43</td>\n",
    "            <td>45.93 ± 2.25</td>\n",
    "            <td>73.05 ± 1.86</td>\n",
    "        </tr>\n",
    "    </tbody>\n",
    "</table>"
   ]
  }
 ],
 "metadata": {
  "kernelspec": {
   "display_name": "Python 3.10.4 ('gedi')",
   "language": "python",
   "name": "python3"
  },
  "language_info": {
   "codemirror_mode": {
    "name": "ipython",
    "version": 3
   },
   "file_extension": ".py",
   "mimetype": "text/x-python",
   "name": "python",
   "nbconvert_exporter": "python",
   "pygments_lexer": "ipython3",
   "version": "3.10.4"
  },
  "vscode": {
   "interpreter": {
    "hash": "1566663a6b5fd78cbaa3a2dcf0c8536a04f4819356a26fbbb342c09aabc81285"
   }
  }
 },
 "nbformat": 4,
 "nbformat_minor": 5
}
